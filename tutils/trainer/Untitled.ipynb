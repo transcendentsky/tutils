{
 "cells": [
  {
   "cell_type": "code",
   "execution_count": 3,
   "id": "01f574a9-49e8-4e50-a952-ad9eab7e28c3",
   "metadata": {},
   "outputs": [
    {
     "name": "stdout",
     "output_type": "stream",
     "text": [
      "record csv  0\n",
      "record csv  1\n",
      "record csv  2\n",
      "record csv  3\n"
     ]
    }
   ],
   "source": [
    "from excel_recorder import CSVLogger\n",
    "import numpy as np\n",
    "\n",
    "csvlogger = CSVLogger(\"./\")\n",
    "rows = [\n",
    "        {'class':1,'name':'xiaoming','sex':'male','height':168.1,'year':np.array(23.0)},\n",
    "        {'class':1,'name':'xiaohong','sex':'female','height':162,'year':np.float64(23)},\n",
    "        {'class':2,'name':'xiaozhang','sex':'female','height':163,'year':21},\n",
    "        {'class':2,'name':'xiaoli','sex':'male','height':158,'year':21},\n",
    "    ]\n",
    "for i in range(4):\n",
    "    \n",
    "    csvlogger.record(rows[i])\n",
    "    print(\"record csv \", i)"
   ]
  },
  {
   "cell_type": "code",
   "execution_count": 10,
   "id": "0800756e-04a6-47b0-b710-ac8e152326e0",
   "metadata": {},
   "outputs": [
    {
     "data": {
      "text/plain": [
       "array([7, 8, 5, 6])"
      ]
     },
     "execution_count": 10,
     "metadata": {},
     "output_type": "execute_result"
    }
   ],
   "source": [
    "np.random.choice(np.arange(10), 4, replace=False)"
   ]
  },
  {
   "cell_type": "code",
   "execution_count": 8,
   "id": "20bd025c-2ea3-433c-8bd2-3d934ea8f4b9",
   "metadata": {},
   "outputs": [
    {
     "name": "stdout",
     "output_type": "stream",
     "text": [
      "{'loss': 0.2, 'a': 'ss'}\n",
      "None\n"
     ]
    }
   ],
   "source": [
    "d = {\"loss\": 0.2, \"a\":\"ss\"}\n",
    "d.keys()\n",
    "print(d)\n",
    "l = [3,4,5,6,1]\n",
    "l.sort()\n",
    "print(l.sort())"
   ]
  },
  {
   "cell_type": "code",
   "execution_count": null,
   "id": "9b167d15-7d23-4c19-b4fd-b4bd8dbde867",
   "metadata": {},
   "outputs": [],
   "source": []
  }
 ],
 "metadata": {
  "kernelspec": {
   "display_name": "Python 3",
   "language": "python",
   "name": "python3"
  },
  "language_info": {
   "codemirror_mode": {
    "name": "ipython",
    "version": 3
   },
   "file_extension": ".py",
   "mimetype": "text/x-python",
   "name": "python",
   "nbconvert_exporter": "python",
   "pygments_lexer": "ipython3",
   "version": "3.8.0"
  }
 },
 "nbformat": 4,
 "nbformat_minor": 5
}
