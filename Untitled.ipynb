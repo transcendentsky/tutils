{
 "cells": [
  {
   "cell_type": "code",
   "execution_count": 2,
   "id": "06582671-6314-4635-84ce-d6f0d53b3fe4",
   "metadata": {},
   "outputs": [],
   "source": [
    "from tutils.timg.draw_heatmap import draw_scatter\n",
    "import numpy as np"
   ]
  },
  {
   "cell_type": "code",
   "execution_count": 3,
   "id": "b66ee38b-131f-434b-b01a-5a0dc7af0180",
   "metadata": {},
   "outputs": [],
   "source": [
    "x = np.arange(10)\n",
    "y = np.arange(10)\n"
   ]
  },
  {
   "cell_type": "code",
   "execution_count": 7,
   "id": "f5d8360b-9188-411a-8137-a8f47ab94e9c",
   "metadata": {},
   "outputs": [],
   "source": [
    "import os\n",
    "import matplotlib\n",
    "matplotlib.use('Agg')  # Must be before importing matplotlib.pyplot or pylab!\n",
    "import matplotlib.pyplot as plt\n",
    "\n",
    "def draw_scatter2(points, points2, fname=\"ttest.png\", c=\"red\", set_font=None, xlabel=\"x\", ylabel=\"y\"):\n",
    "    plt.ioff()  # Turn off interactive plotting off\n",
    "    if set_font is not None:\n",
    "        plt.rc('font', family='Times New Roman')\n",
    "    fig = plt.figure()\n",
    "    fig.suptitle('test 2*2 axes')\n",
    "    parent, tail = os.path.split(fname)\n",
    "    points = points.flatten()\n",
    "    points2 = points2.flatten()\n",
    "    plt.scatter(points, points2, c=c, label=\"???\")\n",
    "    plt.xlabel(xlabel)\n",
    "    plt.ylabel(ylabel)\n",
    "    plt.savefig(fname)\n",
    "    plt.close()"
   ]
  },
  {
   "cell_type": "code",
   "execution_count": 8,
   "id": "fb2749d7-3279-460a-94f9-012cf01064d0",
   "metadata": {},
   "outputs": [],
   "source": [
    "draw_scatter2(x,y)"
   ]
  },
  {
   "cell_type": "code",
   "execution_count": null,
   "id": "c7be9854-e65b-46bd-ab2a-352706ddbe61",
   "metadata": {},
   "outputs": [],
   "source": []
  }
 ],
 "metadata": {
  "kernelspec": {
   "display_name": "Python 3",
   "language": "python",
   "name": "python3"
  },
  "language_info": {
   "codemirror_mode": {
    "name": "ipython",
    "version": 3
   },
   "file_extension": ".py",
   "mimetype": "text/x-python",
   "name": "python",
   "nbconvert_exporter": "python",
   "pygments_lexer": "ipython3",
   "version": "3.8.5"
  }
 },
 "nbformat": 4,
 "nbformat_minor": 5
}
