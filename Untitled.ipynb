{
 "cells": [
  {
   "cell_type": "code",
   "execution_count": 2,
   "id": "06582671-6314-4635-84ce-d6f0d53b3fe4",
   "metadata": {},
   "outputs": [],
   "source": [
    "from tutils.timg.draw_heatmap import draw_scatter\n",
    "import numpy as np"
   ]
  },
  {
   "cell_type": "code",
   "execution_count": 3,
   "id": "b66ee38b-131f-434b-b01a-5a0dc7af0180",
   "metadata": {},
   "outputs": [],
   "source": [
    "x = np.arange(10)\n",
    "y = np.arange(10)\n"
   ]
  },
  {
   "cell_type": "code",
   "execution_count": 7,
   "id": "f5d8360b-9188-411a-8137-a8f47ab94e9c",
   "metadata": {},
   "outputs": [],
   "source": [
    "import os\n",
    "import matplotlib\n",
    "matplotlib.use('Agg')  # Must be before importing matplotlib.pyplot or pylab!\n",
    "import matplotlib.pyplot as plt\n",
    "\n",
    "def draw_scatter2(points, points2, fname=\"ttest.png\", c=\"red\", set_font=None, xlabel=\"x\", ylabel=\"y\"):\n",
    "    plt.ioff()  # Turn off interactive plotting off\n",
    "    if set_font is not None:\n",
    "        plt.rc('font', family='Times New Roman')\n",
    "    fig = plt.figure()\n",
    "    fig.suptitle('test 2*2 axes')\n",
    "    parent, tail = os.path.split(fname)\n",
    "    points = points.flatten()\n",
    "    points2 = points2.flatten()\n",
    "    plt.scatter(points, points2, c=c, label=\"???\")\n",
    "    plt.xlabel(xlabel)\n",
    "    plt.ylabel(ylabel)\n",
    "    plt.savefig(fname)\n",
    "    plt.close()"
   ]
  },
  {
   "cell_type": "code",
   "execution_count": 8,
   "id": "fb2749d7-3279-460a-94f9-012cf01064d0",
   "metadata": {},
   "outputs": [],
   "source": [
    "draw_scatter2(x,y)"
   ]
  },
  {
   "cell_type": "code",
   "execution_count": 22,
   "id": "c7be9854-e65b-46bd-ab2a-352706ddbe61",
   "metadata": {},
   "outputs": [
    {
     "name": "stdout",
     "output_type": "stream",
     "text": [
      "tensor([[[ 0,  1,  2],\n",
      "         [ 3,  4,  5],\n",
      "         [ 6,  7,  8]],\n",
      "\n",
      "        [[ 9, 10, 11],\n",
      "         [12, 13, 14],\n",
      "         [15, 16, 17]],\n",
      "\n",
      "        [[18, 19, 20],\n",
      "         [21, 22, 23],\n",
      "         [24, 25, 26]]])\n",
      "torch.Size([1, 27, 3])\n",
      "tensor(1)\n"
     ]
    }
   ],
   "source": [
    "import torch\n",
    "from typing import Tuple\n",
    "\n",
    "def unravel_index(\n",
    "    indices: torch.LongTensor,\n",
    "    shape: Tuple[int, ...],\n",
    ") -> torch.LongTensor:\n",
    "    r\"\"\"Converts flat indices into unraveled coordinates in a target shape.\n",
    "\n",
    "    This is a `torch` implementation of `numpy.unravel_index`.\n",
    "\n",
    "    Args:\n",
    "        indices: A tensor of (flat) indices, (*, N).\n",
    "        shape: The targeted shape, (D,).\n",
    "\n",
    "    Returns:\n",
    "        The unraveled coordinates, (*, N, D).\n",
    "    \"\"\"\n",
    "\n",
    "    coord = []\n",
    "\n",
    "    for dim in reversed(shape):\n",
    "        coord.append(indices % dim)\n",
    "        indices = indices // dim\n",
    "\n",
    "    coord = torch.stack(coord[::-1], dim=-1)\n",
    "\n",
    "    return coord\n",
    "\n",
    "# x = torch.rand(1, 120, 120)\n",
    "x = torch.arange(27).view(3,3,3)\n",
    "# indices = torch.topk(x, 1, dim=0)\n",
    "print(x)\n",
    "indices = unravel_index(x.view(1,-1), x.size())\n",
    "print(indices.size())\n",
    "# print(indices)\n",
    "print(x[0,0,1])"
   ]
  },
  {
   "cell_type": "code",
   "execution_count": 5,
   "id": "c5975e06-5dbf-4273-b83b-77fb0de70e7d",
   "metadata": {},
   "outputs": [
    {
     "data": {
      "text/plain": [
       "torch.return_types.topk"
      ]
     },
     "execution_count": 5,
     "metadata": {},
     "output_type": "execute_result"
    }
   ],
   "source": [
    "type(indices)\n"
   ]
  },
  {
   "cell_type": "markdown",
   "id": "7cbb618d-66ab-4aa5-be7e-df86cd3427d4",
   "metadata": {},
   "source": [
    "Test configs to save list, and read list\n"
   ]
  },
  {
   "cell_type": "code",
   "execution_count": 7,
   "id": "b45799b1-695a-410e-8e6f-ecc714ac4cbc",
   "metadata": {},
   "outputs": [
    {
     "name": "stdout",
     "output_type": "stream",
     "text": [
      "{'train': {'lr': 0.0001, 'decay': 0.002, 'moment': 0.5, 'tag': 'Train1', 'epoch': 500}, 'test': {'epoch': 200, 'tag': 'Test2'}, 'alist': [2, 3, 4]}\n"
     ]
    }
   ],
   "source": [
    "import yaml\n",
    "import yamlloader\n",
    "import numpy as np\n",
    "\n",
    "with open(\"./conf.yaml\") as f:\n",
    "    config = yaml.load(f, Loader=yamlloader.ordereddict.CLoader)\n",
    "print(config)"
   ]
  },
  {
   "cell_type": "code",
   "execution_count": 11,
   "id": "6ae061d4-ea61-4edb-aa33-c761f6a2c814",
   "metadata": {},
   "outputs": [],
   "source": [
    "alist = config['alist']\n",
    "alistt = np.array(config['alist'])\n"
   ]
  },
  {
   "cell_type": "code",
   "execution_count": 12,
   "id": "840c3f88-7a90-445d-96eb-bed4c5b6c798",
   "metadata": {},
   "outputs": [
    {
     "data": {
      "text/plain": [
       "int"
      ]
     },
     "execution_count": 12,
     "metadata": {},
     "output_type": "execute_result"
    }
   ],
   "source": [
    "type(alist[0])"
   ]
  },
  {
   "cell_type": "code",
   "execution_count": 13,
   "id": "9add855e-2ac8-450d-a96a-a8e28258766a",
   "metadata": {},
   "outputs": [],
   "source": [
    "with open(\"tmp.yml\", \"w\") as f:\n",
    "    yaml.dump(config, f)"
   ]
  },
  {
   "cell_type": "code",
   "execution_count": 15,
   "id": "cfde26a0-f847-4fcd-a34c-64ae6f44dabb",
   "metadata": {},
   "outputs": [],
   "source": [
    "aaa, bbb = (11, 22) if alist[0]>5 else (33,44)"
   ]
  },
  {
   "cell_type": "code",
   "execution_count": 27,
   "id": "14f6fb72-5793-48cf-bd26-9d0a8e62611d",
   "metadata": {},
   "outputs": [],
   "source": [
    "import torch\n",
    "\n",
    "aaa = torch.rand((1,16,5,5,3))\n",
    "ind = np.ones((1,1,5,5,3))\n"
   ]
  },
  {
   "cell_type": "code",
   "execution_count": 30,
   "id": "0cf37c8d-3b6c-41b5-96ef-8be0671bda34",
   "metadata": {},
   "outputs": [
    {
     "data": {
      "text/plain": [
       "tensor([[[[[0.2887, 0.6127, 0.1357],\n",
       "           [0.1644, 0.3408, 0.6846],\n",
       "           [0.9163, 0.2197, 0.3749],\n",
       "           [0.7468, 0.8807, 0.8723],\n",
       "           [0.5880, 0.0212, 0.4715]],\n",
       "\n",
       "          [[0.7296, 0.7940, 0.8110],\n",
       "           [0.0871, 0.3909, 0.2839],\n",
       "           [0.1041, 0.4245, 0.5631],\n",
       "           [0.6071, 0.6348, 0.0868],\n",
       "           [0.0125, 0.5066, 0.3065]],\n",
       "\n",
       "          [[0.8754, 0.0100, 0.6510],\n",
       "           [0.5759, 0.3922, 0.8041],\n",
       "           [0.7705, 0.6113, 0.8396],\n",
       "           [0.7366, 0.5856, 0.2751],\n",
       "           [0.8573, 0.9475, 0.0078]],\n",
       "\n",
       "          [[0.7658, 0.8931, 0.1043],\n",
       "           [0.4570, 0.9873, 0.4782],\n",
       "           [0.0435, 0.4744, 0.7197],\n",
       "           [0.3841, 0.3470, 0.0118],\n",
       "           [0.6691, 0.2071, 0.1835]],\n",
       "\n",
       "          [[0.7540, 0.4125, 0.2410],\n",
       "           [0.0074, 0.7850, 0.9539],\n",
       "           [0.2122, 0.0024, 0.9051],\n",
       "           [0.9950, 0.4626, 0.0126],\n",
       "           [0.9616, 0.5700, 0.9585]]],\n",
       "\n",
       "\n",
       "         [[[0.8885, 0.7876, 0.3891],\n",
       "           [0.8757, 0.4265, 0.9835],\n",
       "           [0.2650, 0.6727, 0.4966],\n",
       "           [0.3983, 0.8808, 0.7902],\n",
       "           [0.0501, 0.0516, 0.2654]],\n",
       "\n",
       "          [[0.4922, 0.3027, 0.5882],\n",
       "           [0.6543, 0.0586, 0.8559],\n",
       "           [0.0445, 0.0424, 0.4370],\n",
       "           [0.0952, 0.5408, 0.1900],\n",
       "           [0.9923, 0.8505, 0.5755]],\n",
       "\n",
       "          [[0.4621, 0.9811, 0.3005],\n",
       "           [0.7193, 0.2536, 0.0140],\n",
       "           [0.4630, 0.8873, 0.5812],\n",
       "           [0.2162, 0.4777, 0.3675],\n",
       "           [0.1462, 0.8748, 0.4257]],\n",
       "\n",
       "          [[0.3730, 0.9007, 0.0549],\n",
       "           [0.5458, 0.0895, 0.4471],\n",
       "           [0.1728, 0.6287, 0.8505],\n",
       "           [0.3924, 0.3862, 0.3131],\n",
       "           [0.7842, 0.9249, 0.1786]],\n",
       "\n",
       "          [[0.1675, 0.7341, 0.6034],\n",
       "           [0.7815, 0.7041, 0.5532],\n",
       "           [0.9333, 0.7364, 0.8090],\n",
       "           [0.9931, 0.8714, 0.1650],\n",
       "           [0.5204, 0.5432, 0.4209]]],\n",
       "\n",
       "\n",
       "         [[[0.7162, 0.9380, 0.9194],\n",
       "           [0.4750, 0.0531, 0.7313],\n",
       "           [0.8641, 0.4373, 0.2393],\n",
       "           [0.3256, 0.2769, 0.8485],\n",
       "           [0.2083, 0.6974, 0.8750]],\n",
       "\n",
       "          [[0.1744, 0.8707, 0.8097],\n",
       "           [0.9471, 0.2238, 0.4938],\n",
       "           [0.1356, 0.1783, 0.8563],\n",
       "           [0.5091, 0.6135, 0.4184],\n",
       "           [0.9149, 0.0670, 0.6996]],\n",
       "\n",
       "          [[0.6416, 0.8836, 0.2361],\n",
       "           [0.1666, 0.4680, 0.3711],\n",
       "           [0.1763, 0.7250, 0.0497],\n",
       "           [0.3177, 0.8004, 0.8659],\n",
       "           [0.3060, 0.5580, 0.5206]],\n",
       "\n",
       "          [[0.3967, 0.2305, 0.4155],\n",
       "           [0.8281, 0.5888, 0.8985],\n",
       "           [0.6981, 0.4219, 0.9283],\n",
       "           [0.4597, 0.8844, 0.5203],\n",
       "           [0.3001, 0.5789, 0.0493]],\n",
       "\n",
       "          [[0.1893, 0.5099, 0.0616],\n",
       "           [0.7962, 0.3132, 0.7724],\n",
       "           [0.6924, 0.0929, 0.1313],\n",
       "           [0.3147, 0.0086, 0.0073],\n",
       "           [0.8166, 0.4649, 0.5421]]],\n",
       "\n",
       "\n",
       "         ...,\n",
       "\n",
       "\n",
       "         [[[0.2654, 0.4848, 0.1648],\n",
       "           [0.8732, 0.8731, 0.3990],\n",
       "           [0.8290, 0.5274, 0.9316],\n",
       "           [0.6706, 0.4263, 0.4411],\n",
       "           [0.1395, 0.0456, 0.9491]],\n",
       "\n",
       "          [[0.1637, 0.7255, 0.0606],\n",
       "           [0.5968, 0.9953, 0.6016],\n",
       "           [0.8165, 0.0271, 0.1554],\n",
       "           [0.6848, 0.9740, 0.3180],\n",
       "           [0.1174, 0.8532, 0.6005]],\n",
       "\n",
       "          [[0.9572, 0.7932, 0.1773],\n",
       "           [0.8014, 0.9354, 0.6690],\n",
       "           [0.6314, 0.5595, 0.9851],\n",
       "           [0.1768, 0.0478, 0.2159],\n",
       "           [0.6456, 0.4157, 0.1763]],\n",
       "\n",
       "          [[0.3959, 0.9152, 0.8522],\n",
       "           [0.2109, 0.8558, 0.6793],\n",
       "           [0.7024, 0.8570, 0.8187],\n",
       "           [0.5562, 0.5828, 0.2013],\n",
       "           [0.0269, 0.6068, 0.7113]],\n",
       "\n",
       "          [[0.0629, 0.2862, 0.9197],\n",
       "           [0.9686, 0.1367, 0.1761],\n",
       "           [0.8936, 0.2517, 0.9951],\n",
       "           [0.4431, 0.3047, 0.4582],\n",
       "           [0.7447, 0.9316, 0.2677]]],\n",
       "\n",
       "\n",
       "         [[[0.8939, 0.3615, 0.7837],\n",
       "           [0.1094, 0.8368, 0.4711],\n",
       "           [0.6485, 0.7173, 0.7840],\n",
       "           [0.8608, 0.2876, 0.3250],\n",
       "           [0.7225, 0.6921, 0.7170]],\n",
       "\n",
       "          [[0.4331, 0.5951, 0.0384],\n",
       "           [0.4920, 0.3238, 0.3809],\n",
       "           [0.6526, 0.1940, 0.9639],\n",
       "           [0.3479, 0.6470, 0.5197],\n",
       "           [0.9816, 0.4443, 0.4017]],\n",
       "\n",
       "          [[0.8682, 0.1454, 0.4992],\n",
       "           [0.5775, 0.4190, 0.9296],\n",
       "           [0.1270, 0.1723, 0.1502],\n",
       "           [0.2335, 0.3553, 0.5336],\n",
       "           [0.1314, 0.6911, 0.3110]],\n",
       "\n",
       "          [[0.8317, 0.9952, 0.4873],\n",
       "           [0.3234, 0.8277, 0.7174],\n",
       "           [0.8512, 0.3219, 0.2974],\n",
       "           [0.1762, 0.6241, 0.3893],\n",
       "           [0.4595, 0.5796, 0.3602]],\n",
       "\n",
       "          [[0.0376, 0.5837, 0.8607],\n",
       "           [0.9041, 0.9641, 0.7657],\n",
       "           [0.2282, 0.3887, 0.4027],\n",
       "           [0.5534, 0.3719, 0.8017],\n",
       "           [0.9428, 0.7381, 0.6455]]],\n",
       "\n",
       "\n",
       "         [[[0.8523, 0.6541, 0.5941],\n",
       "           [0.1161, 0.1492, 0.1231],\n",
       "           [0.7746, 0.6109, 0.3404],\n",
       "           [0.6314, 0.2932, 0.7103],\n",
       "           [0.7918, 0.3706, 0.9853]],\n",
       "\n",
       "          [[0.6680, 0.4977, 0.8771],\n",
       "           [0.0056, 0.4501, 0.4364],\n",
       "           [0.4477, 0.9026, 0.9410],\n",
       "           [0.3657, 0.6256, 0.9480],\n",
       "           [0.6298, 0.2116, 0.4869]],\n",
       "\n",
       "          [[0.5785, 0.9135, 0.6374],\n",
       "           [0.4977, 0.0180, 0.3072],\n",
       "           [0.8124, 0.0264, 0.4104],\n",
       "           [0.4985, 0.4657, 0.1239],\n",
       "           [0.6562, 0.8764, 0.1938]],\n",
       "\n",
       "          [[0.9872, 0.2044, 0.4303],\n",
       "           [0.9685, 0.1642, 0.5711],\n",
       "           [0.3512, 0.4336, 0.0549],\n",
       "           [0.4854, 0.3271, 0.3109],\n",
       "           [0.3015, 0.5370, 0.7397]],\n",
       "\n",
       "          [[0.4770, 0.6757, 0.5364],\n",
       "           [0.4437, 0.7323, 0.3596],\n",
       "           [0.6671, 0.8839, 0.9993],\n",
       "           [0.7372, 0.3121, 0.3277],\n",
       "           [0.8295, 0.3141, 0.0635]]]]], dtype=torch.float64)"
      ]
     },
     "execution_count": 30,
     "metadata": {},
     "output_type": "execute_result"
    }
   ],
   "source": [
    "aaa2 = aaa/ind\n"
   ]
  },
  {
   "cell_type": "code",
   "execution_count": 1,
   "id": "6ce941be-8dec-4dd8-8f84-3b670d39ad5e",
   "metadata": {},
   "outputs": [
    {
     "data": {
      "text/plain": [
       "(0, 0, 0)"
      ]
     },
     "execution_count": 1,
     "metadata": {},
     "output_type": "execute_result"
    }
   ],
   "source": [
    "# import numpy as np\n",
    "import numpy as np\n",
    "final_cos = np.ones((50,50,12))\n",
    "ind = np.unravel_index(final_cos.argmax(), final_cos.shape)\n",
    "ind"
   ]
  },
  {
   "cell_type": "code",
   "execution_count": 29,
   "id": "3bd949ca-f0fb-4319-90f2-39da624b2ce0",
   "metadata": {},
   "outputs": [],
   "source": [
    "# a1 = np.random.random((32,32))\n",
    "a1 = np.arange(32*32).reshape((32,32))/32/32\n",
    "a2 = np.arange(32*32).reshape((32,32))/32/32 #np.random.random((32,32))\n",
    "a3 = np.arange(32*32).reshape((32,32))/32/32 # np.random.random((32,32))\n",
    "alist = [a1,a2,a3]\n"
   ]
  },
  {
   "cell_type": "code",
   "execution_count": 36,
   "id": "337dd726-ada1-48a8-80b9-a1a77c5a8c59",
   "metadata": {},
   "outputs": [
    {
     "name": "stdout",
     "output_type": "stream",
     "text": [
      "(32, 160)\n",
      "(32, 160)\n"
     ]
    },
    {
     "data": {
      "image/png": "[encoded data removed]",
      "text/plain": [
       "<PIL.Image.Image image mode=RGB size=160x32 at 0x7FEBE0F96490>"
      ]
     },
     "execution_count": 36,
     "metadata": {},
     "output_type": "execute_result"
    }
   ],
   "source": [
    "from PIL import Image, ImageDraw, ImageFont\n",
    "import numpy as np\n",
    "from typing import List\n",
    "from einops import rearrange\n",
    "\n",
    "def draw_heatmaps(heatmap: List[np.ndarray], pred: list = [], gts: list = [], fname=None):\n",
    "    \"\"\"\n",
    "        Draw Heatmap with Landmarks\n",
    "            pred: prediction (Red)    , only one prediction\n",
    "            GT:  Groud-truth (Green)  , only one gt\n",
    "    \"\"\"\n",
    "    row = len(heatmap)\n",
    "    assert len(heatmap[0].shape) == 2, f\"Got heatmap[0].shape {heatmap[0].shape}\"\n",
    "    height, width = heatmap[0].shape\n",
    "    heatmap_scale = (heatmap[-1] - np.min(heatmap[-1]))/(np.max(heatmap[-1]) - np.min(heatmap[-1]))\n",
    "    heatmap.append(heatmap_scale)\n",
    "    heatmap = np.concatenate(heatmap, axis=1)\n",
    "    print(heatmap.shape)\n",
    "    heatmap = np.clip(heatmap, 0, 1) * 255\n",
    "    heatmap = heatmap.astype(np.uint8)\n",
    "    print(heatmap.shape)\n",
    "    imgs = Image.fromarray(heatmap).convert('RGB')\n",
    "    draw = ImageDraw.Draw(imgs)\n",
    "    red = (255, 0, 0)\n",
    "    green = (0, 255, 0)\n",
    "    if pred != [] and gts != []:\n",
    "        for i in range(row+1):\n",
    "            draw.rectangle((pred[0] + i * width - 2, pred[1] - 2, pred[0] + i * width + 2, pred[1] + 2), fill=red)\n",
    "            draw.rectangle((gts[0] + i * width - 2, gts[1] - 2, gts[0] + i * width + 2, gts[1] + 2), fill=green)\n",
    "        draw.line([tuple(pred), tuple(gts)], fill='green', width=0)\n",
    "    if fname is None:\n",
    "        return imgs\n",
    "    else:\n",
    "        imgs.save(fname)\n",
    "        \n",
    "heatmaps = alist\n",
    "draw_heatmaps(alist, [4,4], [4,4])\n"
   ]
  },
  {
   "cell_type": "code",
   "execution_count": 37,
   "id": "48e5ace9-81b9-47b1-925c-a8701cbcf419",
   "metadata": {},
   "outputs": [
    {
     "data": {
      "image/png": "[encoded data removed]",
      "text/plain": [
       "<PIL.Image.Image image mode=RGB size=512x512 at 0x7FEBE0FCAA60>"
      ]
     },
     "execution_count": 37,
     "metadata": {},
     "output_type": "execute_result"
    }
   ],
   "source": [
    "from PIL import Image, ImageDraw, ImageFont\n",
    "import numpy as np\n",
    "from typing import List\n",
    "from einops import rearrange\n",
    "\n",
    "def draw_landmarks_on_image(img: np.ndarray, preds: List[list], gts: List[list], fname=None,\n",
    "              ratio: int = 0.01, draw_line: bool = True):\n",
    "    \"\"\"\n",
    "        Here we denote:\n",
    "        preds: red  [[x,y,z], .....]\n",
    "        gts: green, [[x,y,z], .....]\n",
    "    \"\"\"\n",
    "#     assert len(img.shape) == 3, f\"Got shape {img.shape}\"\n",
    "    h, w = img.shape[-2], img.shape[-1]\n",
    "    radius_base = int(min(h, w) * ratio)\n",
    "\n",
    "    red = (255, 0, 0)\n",
    "    green = (0, 255, 0)\n",
    "\n",
    "    img = Image.fromarray(img.astype(np.uint8)).convert('RGB')\n",
    "    draw = ImageDraw.Draw(img)\n",
    "    for i, landmark in enumerate(preds):\n",
    "        gt = gts[i]\n",
    "        radius = radius_base\n",
    "        draw.rectangle((gt[0] - radius, gt[1] - radius, \\\n",
    "                        gt[0] + radius, gt[1] + radius), fill=green)\n",
    "        draw.rectangle((landmark[0] - radius, landmark[1] - radius, \\\n",
    "                        landmark[0] + radius, landmark[1] + radius), fill=red)\n",
    "        if draw_line:\n",
    "            draw.line([tuple(landmark), (gt[0], gt[1])], fill='green', width=0)\n",
    "    if fname is None:\n",
    "        return img\n",
    "    else:\n",
    "        img.save(fname)\n",
    "\n",
    "size = 512\n",
    "a1 = np.arange(size*size).reshape((size,size))/size/size*255\n",
    "draw_landmarks_on_image(a1, [[2,2]], [[2,2]])"
   ]
  },
  {
   "cell_type": "code",
   "execution_count": 31,
   "id": "36772fda-6987-40bf-b717-69f05d8377e2",
   "metadata": {},
   "outputs": [
    {
     "data": {
      "text/plain": [
       "['', 'data', 'quanquan', 'oneshot', 'runs2', '']"
      ]
     },
     "execution_count": 31,
     "metadata": {},
     "output_type": "execute_result"
    }
   ],
   "source": [
    "s = '/data/quanquan/oneshot/runs2/'\n",
    "s.split('/')"
   ]
  },
  {
   "cell_type": "code",
   "execution_count": null,
   "id": "07566f8b-49b2-4cd8-9ba8-5f14a57fc0f5",
   "metadata": {},
   "outputs": [],
   "source": [
    "import numpy as np\n",
    "\n",
    "\n",
    "def build_gaussian_layer(mean, standard_deviation, step=1, len=8, sharpness=0.2):\n",
    "    \"\"\"\n",
    "    copy from blog.csdn.net\n",
    "    \"\"\"\n",
    "    # scaled_size = int(len / sharpness)\n",
    "    scaled_size = len\n",
    "    center_point = (scaled_size, scaled_size)\n",
    "    x = np.arange(-scaled_size + 1, scaled_size, step) * (sharpness**2)\n",
    "    y = np.arange(-scaled_size + 1, scaled_size, step) * (sharpness**2)\n",
    "    x, y = np.meshgrid(x, y)\n",
    "    z = np.exp(-((y - mean) ** 2 + (x - mean) ** 2) / (2 * (standard_deviation ** 2)))\n",
    "    z = z / (np.sqrt(2 * np.pi) * standard_deviation)\n",
    "    return (x, y, z)"
   ]
  },
  {
   "cell_type": "code",
   "execution_count": 7,
   "id": "60acb84f-2713-48e2-83cf-8974e43ec7d8",
   "metadata": {},
   "outputs": [],
   "source": [
    "import yaml\n",
    "import yamlloader\n",
    "from collections import OrderedDict\n",
    "\n",
    "with open('./conf.yaml', 'r') as f:\n",
    "    config = yaml.load(f, Loader=yamlloader.ordereddict.CLoader)\n",
    "\n",
    "config[\"new_dict\"] = {\"aa\":1, \"bb\":2}\n",
    "config['new_dict2'] = OrderedDict()\n",
    "config['new_dict2']['test'] = 'test'\n",
    "config['new_dict2']['test2'] = 'test2'\n",
    "\n",
    "for key, value in config.items():\n",
    "    if type(value) == OrderedDict:\n",
    "        config[key] = dict(value)\n",
    "\n",
    "with open('./tmp.yaml', 'w') as f:\n",
    "    yaml.dump(dict(config), f)"
   ]
  },
  {
   "cell_type": "code",
   "execution_count": null,
   "id": "efe79522-2b99-48c7-8a5f-258279f9d4b1",
   "metadata": {},
   "outputs": [],
   "source": []
  }
 ],
 "metadata": {
  "kernelspec": {
   "display_name": "Python 3",
   "language": "python",
   "name": "python3"
  },
  "language_info": {
   "codemirror_mode": {
    "name": "ipython",
    "version": 3
   },
   "file_extension": ".py",
   "mimetype": "text/x-python",
   "name": "python",
   "nbconvert_exporter": "python",
   "pygments_lexer": "ipython3",
   "version": "3.8.5"
  }
 },
 "nbformat": 4,
 "nbformat_minor": 5
}
