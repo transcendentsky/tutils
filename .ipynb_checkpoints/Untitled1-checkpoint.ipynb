{
 "cells": [
  {
   "cell_type": "code",
   "execution_count": 5,
   "id": "a5af67be-2fa5-4241-be8e-6e4315f06ad3",
   "metadata": {},
   "outputs": [
    {
     "name": "stderr",
     "output_type": "stream",
     "text": [
      "\u001b[32m[I 2021-10-08 01:43:07,511]\u001b[0m A new study created in memory with name: no-name-bfae40bb-5c35-483f-aee2-1b7153947039\u001b[0m\n",
      "\u001b[32m[I 2021-10-08 01:43:07,520]\u001b[0m Trial 0 finished with value: -452.3297821210939 and parameters: {'x': -6.370001726970487, 'y': -6.45660306784912}. Best is trial 0 with value: -452.3297821210939.\u001b[0m\n",
      "\u001b[32m[I 2021-10-08 01:43:07,522]\u001b[0m Trial 1 finished with value: -5.818672302830455 and parameters: {'x': 5.020451048025613, 'y': -0.6377938042446125}. Best is trial 0 with value: -452.3297821210939.\u001b[0m\n",
      "\u001b[32m[I 2021-10-08 01:43:07,523]\u001b[0m Trial 2 finished with value: -22.918795926471617 and parameters: {'x': 0.3652600004719986, 'y': -8.576190495418468}. Best is trial 0 with value: -452.3297821210939.\u001b[0m\n",
      "\u001b[32m[I 2021-10-08 01:43:07,525]\u001b[0m Trial 3 finished with value: 78.66312971071298 and parameters: {'x': 5.309139449345226, 'y': 7.183582492797552}. Best is trial 0 with value: -452.3297821210939.\u001b[0m\n",
      "\u001b[32m[I 2021-10-08 01:43:07,527]\u001b[0m Trial 4 finished with value: 609.4441021842842 and parameters: {'x': -7.079613274889558, 'y': 7.392633505059617}. Best is trial 0 with value: -452.3297821210939.\u001b[0m\n",
      "\u001b[32m[I 2021-10-08 01:43:07,528]\u001b[0m Trial 5 finished with value: 539.9881648252006 and parameters: {'x': -8.549264701053952, 'y': 4.8522130532065315}. Best is trial 0 with value: -452.3297821210939.\u001b[0m\n",
      "\u001b[32m[I 2021-10-08 01:43:07,530]\u001b[0m Trial 6 finished with value: 11.682300657853778 and parameters: {'x': 3.709155425560697, 'y': 3.9991276166173293}. Best is trial 0 with value: -452.3297821210939.\u001b[0m\n",
      "\u001b[32m[I 2021-10-08 01:43:07,531]\u001b[0m Trial 7 finished with value: -46.558822699234014 and parameters: {'x': 6.84287982644047, 'y': -1.9851558381513001}. Best is trial 0 with value: -452.3297821210939.\u001b[0m\n",
      "\u001b[32m[I 2021-10-08 01:43:07,533]\u001b[0m Trial 8 finished with value: 1007.2892212705751 and parameters: {'x': -8.588160323126733, 'y': 8.984898376722747}. Best is trial 0 with value: -452.3297821210939.\u001b[0m\n",
      "\u001b[32m[I 2021-10-08 01:43:07,535]\u001b[0m Trial 9 finished with value: -8.51939171259183 and parameters: {'x': 4.238771935342118, 'y': -1.6997649865588134}. Best is trial 0 with value: -452.3297821210939.\u001b[0m\n",
      "\u001b[32m[I 2021-10-08 01:43:07,547]\u001b[0m Trial 10 finished with value: -289.8561047944465 and parameters: {'x': -3.5089474583702533, 'y': -9.55091964170431}. Best is trial 0 with value: -452.3297821210939.\u001b[0m\n",
      "\u001b[32m[I 2021-10-08 01:43:07,555]\u001b[0m Trial 11 finished with value: -353.79715734825794 and parameters: {'x': -3.9561787556342667, 'y': -9.972840946919899}. Best is trial 0 with value: -452.3297821210939.\u001b[0m\n",
      "\u001b[32m[I 2021-10-08 01:43:07,563]\u001b[0m Trial 12 finished with value: -210.16211188590077 and parameters: {'x': -4.0620118970690315, 'y': -5.719009990755344}. Best is trial 0 with value: -452.3297821210939.\u001b[0m\n",
      "\u001b[32m[I 2021-10-08 01:43:07,570]\u001b[0m Trial 13 finished with value: -210.35752893981618 and parameters: {'x': -4.098872846209459, 'y': -5.6553423792033195}. Best is trial 0 with value: -452.3297821210939.\u001b[0m\n",
      "\u001b[32m[I 2021-10-08 01:43:07,578]\u001b[0m Trial 14 finished with value: -37.11621635208523 and parameters: {'x': -0.44816619787932366, 'y': -6.192726543745749}. Best is trial 0 with value: -452.3297821210939.\u001b[0m\n",
      "\u001b[32m[I 2021-10-08 01:43:07,587]\u001b[0m Trial 15 finished with value: -658.3988955609802 and parameters: {'x': -6.13613462615391, 'y': -9.946100459579995}. Best is trial 15 with value: -658.3988955609802.\u001b[0m\n",
      "\u001b[32m[I 2021-10-08 01:43:07,596]\u001b[0m Trial 16 finished with value: -232.37476245887044 and parameters: {'x': 9.907014228121065, 'y': -3.7167548624653763}. Best is trial 15 with value: -658.3988955609802.\u001b[0m\n",
      "\u001b[32m[I 2021-10-08 01:43:07,603]\u001b[0m Trial 17 finished with value: -59.65890466099922 and parameters: {'x': -0.8599331038327866, 'y': -7.293962496269876}. Best is trial 15 with value: -658.3988955609802.\u001b[0m\n",
      "\u001b[32m[I 2021-10-08 01:43:07,610]\u001b[0m Trial 18 finished with value: 91.48810244169015 and parameters: {'x': -6.089855155265387, 'y': 1.3979226068707415}. Best is trial 15 with value: -658.3988955609802.\u001b[0m\n",
      "\u001b[32m[I 2021-10-08 01:43:07,616]\u001b[0m Trial 19 finished with value: -605.2876224798439 and parameters: {'x': -9.982477285036605, 'y': -4.2156889977200915}. Best is trial 15 with value: -658.3988955609802.\u001b[0m\n",
      "\u001b[32m[I 2021-10-08 01:43:07,623]\u001b[0m Trial 20 finished with value: -537.6308674557039 and parameters: {'x': -9.69659853131205, 'y': -3.9297509535343194}. Best is trial 15 with value: -658.3988955609802.\u001b[0m\n",
      "\u001b[32m[I 2021-10-08 01:43:07,629]\u001b[0m Trial 21 finished with value: -548.7763622380565 and parameters: {'x': -9.692513216737145, 'y': -4.0140211595807695}. Best is trial 15 with value: -658.3988955609802.\u001b[0m\n",
      "\u001b[32m[I 2021-10-08 01:43:07,636]\u001b[0m Trial 22 finished with value: -496.4166577461212 and parameters: {'x': -9.740776298299238, 'y': -3.60124542495312}. Best is trial 15 with value: -658.3988955609802.\u001b[0m\n",
      "\u001b[32m[I 2021-10-08 01:43:07,642]\u001b[0m Trial 23 finished with value: 254.71672638119028 and parameters: {'x': -7.603426208314214, 'y': 2.7618816031994697}. Best is trial 15 with value: -658.3988955609802.\u001b[0m\n",
      "\u001b[32m[I 2021-10-08 01:43:07,649]\u001b[0m Trial 24 finished with value: -447.0515397979021 and parameters: {'x': -5.623195598783777, 'y': -7.692782765348033}. Best is trial 15 with value: -658.3988955609802.\u001b[0m\n",
      "\u001b[32m[I 2021-10-08 01:43:07,667]\u001b[0m Trial 25 finished with value: 118.2410910168443 and parameters: {'x': -9.883666382567212, 'y': 0.8372738475954327}. Best is trial 15 with value: -658.3988955609802.\u001b[0m\n",
      "\u001b[32m[I 2021-10-08 01:43:07,676]\u001b[0m Trial 26 finished with value: -92.4119521738678 and parameters: {'x': -2.4016519381281123, 'y': -4.7697624409198855}. Best is trial 15 with value: -658.3988955609802.\u001b[0m\n",
      "\u001b[32m[I 2021-10-08 01:43:07,684]\u001b[0m Trial 27 finished with value: -240.93500348427 and parameters: {'x': -8.254860924913167, 'y': -2.2910805050138294}. Best is trial 15 with value: -658.3988955609802.\u001b[0m\n",
      "\u001b[32m[I 2021-10-08 01:43:07,691]\u001b[0m Trial 28 finished with value: -0.012595101690409127 and parameters: {'x': 1.8562817140125913, 'y': -0.6097862399051572}. Best is trial 15 with value: -658.3988955609802.\u001b[0m\n",
      "\u001b[32m[I 2021-10-08 01:43:07,699]\u001b[0m Trial 29 finished with value: -490.24902125762435 and parameters: {'x': -5.947163012084273, 'y': -7.762336982180928}. Best is trial 15 with value: -658.3988955609802.\u001b[0m\n",
      "\u001b[32m[I 2021-10-08 01:43:07,708]\u001b[0m Trial 30 finished with value: -149.05535327391033 and parameters: {'x': -5.128842064870748, 'y': -2.9329833096860964}. Best is trial 15 with value: -658.3988955609802.\u001b[0m\n",
      "\u001b[32m[I 2021-10-08 01:43:07,717]\u001b[0m Trial 31 finished with value: -603.5494627488146 and parameters: {'x': -9.934721719954453, 'y': -4.237290833056875}. Best is trial 15 with value: -658.3988955609802.\u001b[0m\n",
      "\u001b[32m[I 2021-10-08 01:43:07,724]\u001b[0m Trial 32 finished with value: -387.1822432340869 and parameters: {'x': -6.858961916702833, 'y': -4.933438994836699}. Best is trial 15 with value: -658.3988955609802.\u001b[0m\n",
      "\u001b[32m[I 2021-10-08 01:43:07,747]\u001b[0m Trial 33 finished with value: -722.0749924123622 and parameters: {'x': -8.462397244379197, 'y': -6.596596091131804}. Best is trial 33 with value: -722.0749924123622.\u001b[0m\n",
      "\u001b[32m[I 2021-10-08 01:43:07,753]\u001b[0m Trial 34 finished with value: -865.148904310661 and parameters: {'x': -7.966573469995367, 'y': -8.709618190430659}. Best is trial 34 with value: -865.148904310661.\u001b[0m\n",
      "\u001b[32m[I 2021-10-08 01:43:07,760]\u001b[0m Trial 35 finished with value: -847.226021668738 and parameters: {'x': -7.723511859490247, 'y': -8.96092803942457}. Best is trial 34 with value: -865.148904310661.\u001b[0m\n",
      "\u001b[32m[I 2021-10-08 01:43:07,767]\u001b[0m Trial 36 finished with value: -803.3266497750275 and parameters: {'x': -7.5626739419058895, 'y': -8.784832369566764}. Best is trial 34 with value: -865.148904310661.\u001b[0m\n",
      "\u001b[32m[I 2021-10-08 01:43:07,775]\u001b[0m Trial 37 finished with value: -781.8480954932921 and parameters: {'x': -7.58530728835474, 'y': -8.509622651508375}. Best is trial 34 with value: -865.148904310661.\u001b[0m\n",
      "\u001b[32m[I 2021-10-08 01:43:07,785]\u001b[0m Trial 38 finished with value: -400.40216347733514 and parameters: {'x': -4.79745246169802, 'y': -8.665708128788234}. Best is trial 34 with value: -865.148904310661.\u001b[0m\n",
      "\u001b[32m[I 2021-10-08 01:43:07,792]\u001b[0m Trial 39 finished with value: -793.0390919706279 and parameters: {'x': -7.555913924398836, 'y': -8.68460634542323}. Best is trial 34 with value: -865.148904310661.\u001b[0m\n",
      "\u001b[32m[I 2021-10-08 01:43:07,799]\u001b[0m Trial 40 finished with value: -743.29015146639 and parameters: {'x': -7.211436707784602, 'y': -8.759990469902846}. Best is trial 34 with value: -865.148904310661.\u001b[0m\n",
      "\u001b[32m[I 2021-10-08 01:43:07,806]\u001b[0m Trial 41 finished with value: -177.4164156166671 and parameters: {'x': -2.5689012343586333, 'y': -8.499047584317962}. Best is trial 34 with value: -865.148904310661.\u001b[0m\n",
      "\u001b[32m[I 2021-10-08 01:43:07,813]\u001b[0m Trial 42 finished with value: -710.4001976583755 and parameters: {'x': -7.705742130952095, 'y': -7.541288866861493}. Best is trial 34 with value: -865.148904310661.\u001b[0m\n",
      "\u001b[32m[I 2021-10-08 01:43:07,821]\u001b[0m Trial 43 finished with value: -686.3154723384926 and parameters: {'x': -6.874437122453735, 'y': -8.71449362268685}. Best is trial 34 with value: -865.148904310661.\u001b[0m\n",
      "\u001b[32m[I 2021-10-08 01:43:07,828]\u001b[0m Trial 44 finished with value: -730.9619556117543 and parameters: {'x': -8.266595414077171, 'y': -6.934926753761293}. Best is trial 34 with value: -865.148904310661.\u001b[0m\n",
      "\u001b[32m[I 2021-10-08 01:43:07,836]\u001b[0m Trial 45 finished with value: -443.97410036095266 and parameters: {'x': -4.958572397135975, 'y': -9.168902105274727}. Best is trial 34 with value: -865.148904310661.\u001b[0m\n",
      "\u001b[32m[I 2021-10-08 01:43:07,845]\u001b[0m Trial 46 finished with value: -943.37666581119 and parameters: {'x': -8.855151244034838, 'y': -8.005959194507748}. Best is trial 46 with value: -943.37666581119.\u001b[0m\n",
      "\u001b[32m[I 2021-10-08 01:43:07,853]\u001b[0m Trial 47 finished with value: -723.7404831094889 and parameters: {'x': -9.100972896212223, 'y': -5.873010555398585}. Best is trial 46 with value: -943.37666581119.\u001b[0m\n",
      "\u001b[32m[I 2021-10-08 01:43:07,861]\u001b[0m Trial 48 finished with value: -1158.681698342254 and parameters: {'x': -8.813122480091359, 'y': -9.90973184414181}. Best is trial 48 with value: -1158.681698342254.\u001b[0m\n",
      "\u001b[32m[I 2021-10-08 01:43:07,868]\u001b[0m Trial 49 finished with value: -1143.4401135251544 and parameters: {'x': -8.750660906969513, 'y': -9.893343686214736}. Best is trial 48 with value: -1158.681698342254.\u001b[0m\n",
      "\u001b[32m[I 2021-10-08 01:43:07,874]\u001b[0m Trial 50 finished with value: -704.4405067532153 and parameters: {'x': -6.501735108450991, 'y': -9.746062274552628}. Best is trial 48 with value: -1158.681698342254.\u001b[0m\n",
      "\u001b[32m[I 2021-10-08 01:43:07,881]\u001b[0m Trial 51 finished with value: -973.5819225780218 and parameters: {'x': -9.096601058003184, 'y': -7.9066507550052165}. Best is trial 48 with value: -1158.681698342254.\u001b[0m\n",
      "\u001b[32m[I 2021-10-08 01:43:07,888]\u001b[0m Trial 52 finished with value: -952.4751563580451 and parameters: {'x': -9.034524000724668, 'y': -7.822515807756003}. Best is trial 48 with value: -1158.681698342254.\u001b[0m\n",
      "\u001b[32m[I 2021-10-08 01:43:07,895]\u001b[0m Trial 53 finished with value: 736.0733311543994 and parameters: {'x': -9.04492054026968, 'y': 6.033869198895529}. Best is trial 48 with value: -1158.681698342254.\u001b[0m\n",
      "\u001b[32m[I 2021-10-08 01:43:07,901]\u001b[0m Trial 54 finished with value: -961.3195640585938 and parameters: {'x': -9.049698729428782, 'y': -7.87348322616001}. Best is trial 48 with value: -1158.681698342254.\u001b[0m\n",
      "\u001b[32m[I 2021-10-08 01:43:07,910]\u001b[0m Trial 55 finished with value: -800.8521434494432 and parameters: {'x': -8.990983076047257, 'y': -6.629476935591824}. Best is trial 48 with value: -1158.681698342254.\u001b[0m\n",
      "\u001b[32m[I 2021-10-08 01:43:07,919]\u001b[0m Trial 56 finished with value: -946.9288432593149 and parameters: {'x': -8.99242118411634, 'y': -7.836653134393363}. Best is trial 48 with value: -1158.681698342254.\u001b[0m\n",
      "\u001b[32m[I 2021-10-08 01:43:07,928]\u001b[0m Trial 57 finished with value: -313.1072925008483 and parameters: {'x': 9.621106933725498, 'y': -5.390847818488408}. Best is trial 48 with value: -1158.681698342254.\u001b[0m\n",
      "\u001b[32m[I 2021-10-08 01:43:07,936]\u001b[0m Trial 58 finished with value: -7.785285248440951 and parameters: {'x': 1.1061238280989674, 'y': -9.7436081196238}. Best is trial 48 with value: -1158.681698342254.\u001b[0m\n",
      "\u001b[32m[I 2021-10-08 01:43:07,944]\u001b[0m Trial 59 finished with value: -179.76453136913588 and parameters: {'x': 6.948530286403896, 'y': -7.3409377559417175}. Best is trial 48 with value: -1158.681698342254.\u001b[0m\n",
      "\u001b[32m[I 2021-10-08 01:43:07,952]\u001b[0m Trial 60 finished with value: -834.3981948308588 and parameters: {'x': -9.246574099185283, 'y': -6.596793019051127}. Best is trial 48 with value: -1158.681698342254.\u001b[0m\n",
      "\u001b[32m[I 2021-10-08 01:43:07,960]\u001b[0m Trial 61 finished with value: 1077.0726029076952 and parameters: {'x': -8.424305677267146, 'y': 9.911758300772142}. Best is trial 48 with value: -1158.681698342254.\u001b[0m\n",
      "\u001b[32m[I 2021-10-08 01:43:07,968]\u001b[0m Trial 62 finished with value: -969.7715367222759 and parameters: {'x': -8.834297098031364, 'y': -8.26167205813063}. Best is trial 48 with value: -1158.681698342254.\u001b[0m\n",
      "\u001b[32m[I 2021-10-08 01:43:07,975]\u001b[0m Trial 63 finished with value: -608.3093447165144 and parameters: {'x': -6.7097606478628045, 'y': -8.018849218049661}. Best is trial 48 with value: -1158.681698342254.\u001b[0m\n",
      "\u001b[32m[I 2021-10-08 01:43:07,983]\u001b[0m Trial 64 finished with value: -1228.1513359600156 and parameters: {'x': -9.191651341445892, 'y': -9.805359952293259}. Best is trial 64 with value: -1228.1513359600156.\u001b[0m\n",
      "\u001b[32m[I 2021-10-08 01:43:07,992]\u001b[0m Trial 65 finished with value: -1018.6568438749019 and parameters: {'x': -8.365893982830327, 'y': -9.480131942327256}. Best is trial 64 with value: -1228.1513359600156.\u001b[0m\n",
      "\u001b[32m[I 2021-10-08 01:43:08,003]\u001b[0m Trial 66 finished with value: -1067.838557129905 and parameters: {'x': -8.33746120506995, 'y': -9.992584114605878}. Best is trial 64 with value: -1228.1513359600156.\u001b[0m\n",
      "\u001b[32m[I 2021-10-08 01:43:08,011]\u001b[0m Trial 67 finished with value: -572.8681363301403 and parameters: {'x': -5.820788827968692, 'y': -9.365986940787106}. Best is trial 64 with value: -1228.1513359600156.\u001b[0m\n",
      "\u001b[32m[I 2021-10-08 01:43:08,018]\u001b[0m Trial 68 finished with value: -1286.4807007840043 and parameters: {'x': -9.536715786956908, 'y': -9.665824113304334}. Best is trial 68 with value: -1286.4807007840043.\u001b[0m\n",
      "\u001b[32m[I 2021-10-08 01:43:08,025]\u001b[0m Trial 69 finished with value: -1419.9105100905213 and parameters: {'x': -9.954145386426706, 'y': -9.936281961695316}. Best is trial 69 with value: -1419.9105100905213.\u001b[0m\n",
      "\u001b[32m[I 2021-10-08 01:43:08,033]\u001b[0m Trial 70 finished with value: -1310.8146716435572 and parameters: {'x': -9.622552048888648, 'y': -9.703720842196534}. Best is trial 69 with value: -1419.9105100905213.\u001b[0m\n",
      "\u001b[32m[I 2021-10-08 01:43:08,040]\u001b[0m Trial 71 finished with value: -1425.222927219128 and parameters: {'x': -9.960119141686754, 'y': -9.963496859762477}. Best is trial 71 with value: -1425.222927219128.\u001b[0m\n",
      "\u001b[32m[I 2021-10-08 01:43:08,049]\u001b[0m Trial 72 finished with value: -1411.2049325795576 and parameters: {'x': -9.986526589171328, 'y': -9.822078020603804}. Best is trial 71 with value: -1425.222927219128.\u001b[0m\n",
      "\u001b[32m[I 2021-10-08 01:43:08,057]\u001b[0m Trial 73 finished with value: -1340.6765489665897 and parameters: {'x': -9.980057813960922, 'y': -9.341275590022091}. Best is trial 71 with value: -1425.222927219128.\u001b[0m\n",
      "\u001b[32m[I 2021-10-08 01:43:08,066]\u001b[0m Trial 74 finished with value: -1257.2322661113392 and parameters: {'x': -9.647997781857697, 'y': -9.266440892436629}. Best is trial 71 with value: -1425.222927219128.\u001b[0m\n",
      "\u001b[32m[I 2021-10-08 01:43:08,076]\u001b[0m Trial 75 finished with value: -1303.3746426835512 and parameters: {'x': -9.845935545485872, 'y': -9.288178154459404}. Best is trial 71 with value: -1425.222927219128.\u001b[0m\n",
      "\u001b[32m[I 2021-10-08 01:43:08,083]\u001b[0m Trial 76 finished with value: -1285.009377497477 and parameters: {'x': -9.819698645368021, 'y': -9.198001776814191}. Best is trial 71 with value: -1425.222927219128.\u001b[0m\n",
      "\u001b[32m[I 2021-10-08 01:43:08,090]\u001b[0m Trial 77 finished with value: -1285.4383843936837 and parameters: {'x': -9.867164613982592, 'y': -9.127615367288156}. Best is trial 71 with value: -1425.222927219128.\u001b[0m\n",
      "\u001b[32m[I 2021-10-08 01:43:08,097]\u001b[0m Trial 78 finished with value: -998.2529456678095 and parameters: {'x': -9.841416061347584, 'y': -7.119234834683343}. Best is trial 71 with value: -1425.222927219128.\u001b[0m\n",
      "\u001b[32m[I 2021-10-08 01:43:08,105]\u001b[0m Trial 79 finished with value: -1230.7057211062179 and parameters: {'x': -9.568717402240773, 'y': -9.195678832922608}. Best is trial 71 with value: -1425.222927219128.\u001b[0m\n",
      "\u001b[32m[I 2021-10-08 01:43:08,113]\u001b[0m Trial 80 finished with value: -888.3774096869904 and parameters: {'x': -9.963589121809685, 'y': -6.206896850309155}. Best is trial 71 with value: -1425.222927219128.\u001b[0m\n",
      "\u001b[32m[I 2021-10-08 01:43:08,128]\u001b[0m Trial 81 finished with value: -1328.2310071879187 and parameters: {'x': -9.991569004017474, 'y': -9.236801118161818}. Best is trial 71 with value: -1425.222927219128.\u001b[0m\n",
      "\u001b[32m[I 2021-10-08 01:43:08,140]\u001b[0m Trial 82 finished with value: -1325.7766287219404 and parameters: {'x': -9.996183522118042, 'y': -9.212641185603099}. Best is trial 71 with value: -1425.222927219128.\u001b[0m\n",
      "\u001b[32m[I 2021-10-08 01:43:08,148]\u001b[0m Trial 83 finished with value: -832.5425205859895 and parameters: {'x': -7.967855499575799, 'y': -8.379207715303687}. Best is trial 71 with value: -1425.222927219128.\u001b[0m\n",
      "\u001b[32m[I 2021-10-08 01:43:08,156]\u001b[0m Trial 84 finished with value: -623.896005601122 and parameters: {'x': -7.326094577501663, 'y': -7.173193963644651}. Best is trial 71 with value: -1425.222927219128.\u001b[0m\n",
      "\u001b[32m[I 2021-10-08 01:43:08,163]\u001b[0m Trial 85 finished with value: -11.038748593511741 and parameters: {'x': 3.0842346954195783, 'y': -9.390165383977122}. Best is trial 71 with value: -1425.222927219128.\u001b[0m\n",
      "\u001b[32m[I 2021-10-08 01:43:08,170]\u001b[0m Trial 86 finished with value: -1090.7874645049005 and parameters: {'x': -9.360850866149397, 'y': -8.451200797880759}. Best is trial 71 with value: -1425.222927219128.\u001b[0m\n",
      "\u001b[32m[I 2021-10-08 01:43:08,178]\u001b[0m Trial 87 finished with value: -897.5252420788181 and parameters: {'x': -8.049919951313436, 'y': -8.886310139894794}. Best is trial 71 with value: -1425.222927219128.\u001b[0m\n",
      "\u001b[32m[I 2021-10-08 01:43:08,187]\u001b[0m Trial 88 finished with value: 571.2853625080559 and parameters: {'x': -9.485257201742838, 'y': 4.330835082362304}. Best is trial 71 with value: -1425.222927219128.\u001b[0m\n",
      "\u001b[32m[I 2021-10-08 01:43:08,197]\u001b[0m Trial 89 finished with value: -187.98445885560218 and parameters: {'x': -9.983555320050975, 'y': -1.3090329439196475}. Best is trial 71 with value: -1425.222927219128.\u001b[0m\n",
      "\u001b[32m[I 2021-10-08 01:43:08,209]\u001b[0m Trial 90 finished with value: -1052.2735896058794 and parameters: {'x': -8.50223850379166, 'y': -9.540363382026175}. Best is trial 71 with value: -1425.222927219128.\u001b[0m\n",
      "\u001b[32m[I 2021-10-08 01:43:08,216]\u001b[0m Trial 91 finished with value: 311.4405061666996 and parameters: {'x': -9.435027145381612, 'y': 2.3817748042152385}. Best is trial 71 with value: -1425.222927219128.\u001b[0m\n",
      "\u001b[32m[I 2021-10-08 01:43:08,223]\u001b[0m Trial 92 finished with value: -1312.647987127317 and parameters: {'x': -9.974846604240284, 'y': -9.153946274223912}. Best is trial 71 with value: -1425.222927219128.\u001b[0m\n",
      "\u001b[32m[I 2021-10-08 01:43:08,230]\u001b[0m Trial 93 finished with value: -106.84177452831082 and parameters: {'x': -1.2735468833466808, 'y': -9.970202109693668}. Best is trial 71 with value: -1425.222927219128.\u001b[0m\n",
      "\u001b[32m[I 2021-10-08 01:43:08,238]\u001b[0m Trial 94 finished with value: -1084.5622261967853 and parameters: {'x': -9.460296028920299, 'y': -8.257770381558483}. Best is trial 71 with value: -1425.222927219128.\u001b[0m\n",
      "\u001b[32m[I 2021-10-08 01:43:08,245]\u001b[0m Trial 95 finished with value: -898.104385417931 and parameters: {'x': -8.025998258233718, 'y': -8.934527036649447}. Best is trial 71 with value: -1425.222927219128.\u001b[0m\n",
      "\u001b[32m[I 2021-10-08 01:43:08,253]\u001b[0m Trial 96 finished with value: -1076.8932433820737 and parameters: {'x': -8.65796640835739, 'y': -9.480340980182136}. Best is trial 71 with value: -1425.222927219128.\u001b[0m\n",
      "\u001b[32m[I 2021-10-08 01:43:08,261]\u001b[0m Trial 97 finished with value: -992.3690031749954 and parameters: {'x': -9.449963537306463, 'y': -7.569461479625348}. Best is trial 71 with value: -1425.222927219128.\u001b[0m\n",
      "\u001b[32m[I 2021-10-08 01:43:08,269]\u001b[0m Trial 98 finished with value: -1190.858925242286 and parameters: {'x': -9.997262480162592, 'y': -8.273628087110927}. Best is trial 71 with value: -1425.222927219128.\u001b[0m\n",
      "\u001b[32m[I 2021-10-08 01:43:08,277]\u001b[0m Trial 99 finished with value: -1002.3339858247134 and parameters: {'x': -8.605683757816573, 'y': -8.91117781812682}. Best is trial 71 with value: -1425.222927219128.\u001b[0m\n"
     ]
    },
    {
     "data": {
      "text/plain": [
       "{'x': -9.960119141686754, 'y': -9.963496859762477}"
      ]
     },
     "execution_count": 5,
     "metadata": {},
     "output_type": "execute_result"
    }
   ],
   "source": [
    "import optuna\n",
    "\n",
    "def objective(trial):\n",
    "    x = trial.suggest_uniform('x', -10, 10)\n",
    "    y = trial.suggest_uniform('y', -10, 10)\n",
    "    classifier_name = trial.suggest_categorical(\"classifier\", [\"SVC\", \"RandomForest\"])\n",
    "    svc_c = trial.suggest_float(\"svc_c\", 1e-10, 1e10, log=True)\n",
    "    return (x - 2) ** 2 * y\n",
    "\n",
    "study = optuna.create_study()\n",
    "study.optimize(objective, n_trials=100)\n",
    "\n",
    "study.best_params  # E.g. {'x': 2.002108042}"
   ]
  },
  {
   "cell_type": "code",
   "execution_count": 22,
   "id": "af27861a-8814-4d14-b1ea-3b59cc90b453",
   "metadata": {},
   "outputs": [
    {
     "name": "stdout",
     "output_type": "stream",
     "text": [
      "   isbest  best_value  best_epoch        mre     SDR 2   SDR 2.5     SDR 3  \\\n",
      "0    True   54.942772           0  54.942772  0.657895  0.657895  2.631579   \n",
      "\n",
      "      SDR 4         time  \n",
      "0  5.263158  0927-225416  \n"
     ]
    },
    {
     "data": {
      "text/plain": [
       "0    54.942772\n",
       "Name: best_value, dtype: float64"
      ]
     },
     "execution_count": 22,
     "metadata": {},
     "output_type": "execute_result"
    }
   ],
   "source": [
    "import pandas as pd\n",
    "\"/home1/quanquan/code/landmark/code/runs_tr/std7/best_record/record.csv\"\n",
    "df = pd.read_csv('/home1/quanquan/code/landmark/code/runs_tr/conformer/run2/best_record/record.csv')\n",
    "# print(df[:-1])\n",
    "print(df[-1:])\n",
    "d0 = df[-1:]\n",
    "d0['best_value']\n"
   ]
  },
  {
   "cell_type": "code",
   "execution_count": 21,
   "id": "54a4a7db-183e-4729-b3e3-688159ab5e8d",
   "metadata": {},
   "outputs": [
    {
     "data": {
      "text/plain": [
       "{'isbest': [True],\n",
       " 'best_value': [54.94277196085335],\n",
       " 'best_epoch': [0],\n",
       " 'mre': [54.94277196085335],\n",
       " 'SDR 2': [0.6578947368421053],\n",
       " 'SDR 2.5': [0.6578947368421053],\n",
       " 'SDR 3': [2.631578947368421],\n",
       " 'SDR 4': [5.2631578947368425],\n",
       " 'time': ['0927-225416']}"
      ]
     },
     "execution_count": 21,
     "metadata": {},
     "output_type": "execute_result"
    }
   ],
   "source": [
    "df.to_dict(orient='list')"
   ]
  },
  {
   "cell_type": "code",
   "execution_count": 31,
   "id": "2ef8cfba-3d2e-49c4-b408-5493281eb48a",
   "metadata": {},
   "outputs": [
    {
     "data": {
      "text/plain": [
       "{'base.base_dir': './runs_debug/',\n",
       " 'base.experiment': 'test_param1',\n",
       " 'base.tag': '',\n",
       " 'base.stage': '',\n",
       " 'base.extag.tt1': [2, 3],\n",
       " 'base.extag.tt2': '3rd',\n",
       " 'logger.mode': None,\n",
       " 'logger.action': 'k'}"
      ]
     },
     "execution_count": 31,
     "metadata": {},
     "output_type": "execute_result"
    }
   ],
   "source": [
    "def flatten_dict(d, parent_name=None):\n",
    "    s = parent_name + \".\" if parent_name is not None else \"\"\n",
    "    if isinstance(d, dict):\n",
    "        _d = dict()\n",
    "        for k, v in d.items():\n",
    "            if not isinstance(v, dict):\n",
    "                _d = {**_d, **{s+k: v}}\n",
    "            else:\n",
    "                _d = {**_d, **flatten_dict(d[k], s + k)}\n",
    "        return _d\n",
    "    \n",
    "BASE_CONFIG = {\n",
    "    'base': {\n",
    "        'base_dir'  : './runs_debug/',\n",
    "        'experiment': \"test_param1\",\n",
    "        'tag': '',\n",
    "        'stage': '', \n",
    "        'extag': {\n",
    "            'tt1': [2,3],\n",
    "            'tt2': '3rd'\n",
    "            }            \n",
    "        },    \n",
    "    'logger':{\n",
    "        'mode': None, # \"wandb\", \"tensorboard\", 'csv'\n",
    "        'action': 'k', \n",
    "    }\n",
    "}\n",
    "flatten_dict(BASE_CONFIG)"
   ]
  },
  {
   "cell_type": "code",
   "execution_count": 46,
   "id": "49045f47-670d-4dd8-9404-59d7491f21a6",
   "metadata": {},
   "outputs": [
    {
     "name": "stdout",
     "output_type": "stream",
     "text": [
      "{'training': {'bs': [4, 8], 'workers': [3, 5]}}\n",
      "[{'training': {'bs': 4, 'workers': 3}}]\n",
      "[{'training': {'bs': 4, 'workers': 3}}, {'training': {'bs': 8, 'workers': 5}}]\n",
      "Parsing Opts length:  2\n",
      "[{'training': {'bs': 4, 'workers': 3}}, {'training': {'bs': 8, 'workers': 5}}]\n"
     ]
    }
   ],
   "source": [
    "\n",
    "# def _config_parsing(_dict, i):\n",
    "#     # print(\"_config_parsing debug: \", _dict, i)\n",
    "#     if type(_dict) is dict:\n",
    "#         for key, value in _dict.items():\n",
    "#             ret = _config_parsing(value, i)\n",
    "#             if ret is None:\n",
    "#                 return None\n",
    "#             _dict[key] = ret\n",
    "#         return _dict\n",
    "#     elif type(_dict) is list:\n",
    "#         if len(_dict) < i:\n",
    "#             return _dict[i]\n",
    "#         else:\n",
    "#             return None\n",
    "#     else:\n",
    "#         raise ValueError(f\"_tmp_get_subconfig Got type error {type(_dict), _dict}\")\n",
    "\n",
    "import copy\n",
    "\n",
    "def _config_parsing(d, i):\n",
    "    _dict = copy.deepcopy(d)\n",
    "    # print(\"_config_parsing debug: \", _dict, i)\n",
    "    if type(_dict) is dict:\n",
    "        for key, value in _dict.items():\n",
    "            _dict[key] = _config_parsing(value, i)\n",
    "        return _dict\n",
    "    elif type(_dict) is list:\n",
    "        return _dict[i]\n",
    "    else:\n",
    "        raise ValueError(f\"_tmp_get_subconfig Got type error {type(_dict), _dict}\")\n",
    "        \n",
    "config = {\n",
    "    'training': {\n",
    "        'bs': [4,8],\n",
    "        'workers': [3,5],\n",
    "    }\n",
    "}\n",
    "\n",
    "def parse(config):\n",
    "    d = list()\n",
    "    for i in range(999):\n",
    "#         opt = \n",
    "        one_opt = _config_parsing(config, i)\n",
    "        print(one_opt)\n",
    "        \n",
    "def parse_opts(d):\n",
    "    r = []\n",
    "    i = 0\n",
    "    while True:\n",
    "        try:\n",
    "            r.append(_config_parsing(d, i))\n",
    "        except:\n",
    "            print(\"Parsing Opts length: \", i)\n",
    "            break\n",
    "        i += 1\n",
    "    return r\n",
    "        \n",
    "print(config)\n",
    "dsds = parse_opts(config)\n",
    "print(dsds)"
   ]
  },
  {
   "cell_type": "code",
   "execution_count": null,
   "id": "2034db99-1d0d-4749-97d2-a74a930645f6",
   "metadata": {},
   "outputs": [],
   "source": []
  }
 ],
 "metadata": {
  "kernelspec": {
   "display_name": "Python 3",
   "language": "python",
   "name": "python3"
  },
  "language_info": {
   "codemirror_mode": {
    "name": "ipython",
    "version": 3
   },
   "file_extension": ".py",
   "mimetype": "text/x-python",
   "name": "python",
   "nbconvert_exporter": "python",
   "pygments_lexer": "ipython3",
   "version": "3.8.0"
  }
 },
 "nbformat": 4,
 "nbformat_minor": 5
}
