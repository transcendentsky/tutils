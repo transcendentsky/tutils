{
 "cells": [
  {
   "cell_type": "code",
   "execution_count": 1,
   "id": "a5af67be-2fa5-4241-be8e-6e4315f06ad3",
   "metadata": {},
   "outputs": [
    {
     "name": "stdout",
     "output_type": "stream",
     "text": [
      "torch.Size([1, 64, 1, 1])\n",
      "torch.Size([1, 1, 1, 1])\n"
     ]
    }
   ],
   "source": [
    "import torch\n",
    "\n",
    "vector = torch.rand((1,64,1,1))\n",
    "print(vector.shape)\n",
    "normed = torch.norm(vector, dim=1, keepdim=True)\n",
    "print(normed.shape)"
   ]
  },
  {
   "cell_type": "code",
   "execution_count": null,
   "id": "af27861a-8814-4d14-b1ea-3b59cc90b453",
   "metadata": {},
   "outputs": [],
   "source": []
  }
 ],
 "metadata": {
  "kernelspec": {
   "display_name": "Python 3",
   "language": "python",
   "name": "python3"
  },
  "language_info": {
   "codemirror_mode": {
    "name": "ipython",
    "version": 3
   },
   "file_extension": ".py",
   "mimetype": "text/x-python",
   "name": "python",
   "nbconvert_exporter": "python",
   "pygments_lexer": "ipython3",
   "version": "3.8.0"
  }
 },
 "nbformat": 4,
 "nbformat_minor": 5
}
