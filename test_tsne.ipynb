{
 "cells": [
  {
   "cell_type": "code",
   "execution_count": 1,
   "id": "cd455785-5899-4d80-ba96-eb4a3afc24ab",
   "metadata": {},
   "outputs": [],
   "source": [
    "#Import numpy\n",
    "import numpy as np\n",
    "\n",
    "#Import scikitlearn for machine learning functionalities\n",
    "import sklearn\n",
    "from sklearn.manifold import TSNE \n",
    "from sklearn.datasets import load_digits # For the UCI ML handwritten digits dataset\n",
    "\n",
    "# Import matplotlib for plotting graphs ans seaborn for attractive graphics.\n",
    "import matplotlib\n",
    "import matplotlib.pyplot as plt\n",
    "import matplotlib.patheffects as pe\n",
    "%matplotlib inline\n",
    "\n",
    "import seaborn as sb"
   ]
  },
  {
   "cell_type": "code",
   "execution_count": 3,
   "id": "7629d8eb-58c2-48a1-93f2-e331ea91fee0",
   "metadata": {},
   "outputs": [
    {
     "name": "stdout",
     "output_type": "stream",
     "text": [
      "(1797, 64)\n"
     ]
    }
   ],
   "source": [
    "digits = load_digits()\n",
    "print(digits.data.shape) # There are 10 classes (0 to 9) with alomst 180 images in each class \n",
    "                         # The images are 8x8 and hence 64 pixels(dimensions)\n",
    "# plt.gray();\n",
    "# #Displaying what the standard images look like\n",
    "# for i in range(0,10):\n",
    "#     plt.matshow(digits.images[i]) \n",
    "#     plt.show()"
   ]
  },
  {
   "cell_type": "code",
   "execution_count": 4,
   "id": "94b38cc6-5a46-4b72-8084-a23b9d54a8b0",
   "metadata": {},
   "outputs": [],
   "source": [
    "X = np.vstack([digits.data[digits.target==i] for i in range(10)]) # Place the arrays of data of each digit on top of each other and store in X\n",
    "Y = np.hstack([digits.target[digits.target==i] for i in range(10)]) # Place the arrays of data of each target digit by the side of each other continuosly and store in Y\n",
    "\n",
    "#Implementing the TSNE Function - ah Scikit learn makes it so easy!\n",
    "digits_final = TSNE(perplexity=30).fit_transform(X) \n",
    "#Play around with varying the parameters like perplexity, random_state to get different plots"
   ]
  },
  {
   "cell_type": "code",
   "execution_count": 10,
   "id": "978deb29-2d6b-4a74-a7bb-1e0341c2553d",
   "metadata": {},
   "outputs": [
    {
     "name": "stdout",
     "output_type": "stream",
     "text": [
      "(1797, 64)\n",
      "(1797,)\n",
      "[9 9 9 9 9 9 9 9 9 9]\n"
     ]
    }
   ],
   "source": [
    "print(X.shape)\n",
    "print(Y.shape)\n",
    "print(Y[-10:])"
   ]
  },
  {
   "cell_type": "code",
   "execution_count": 11,
   "id": "d911cd62-691b-445d-8f01-fce087b333ed",
   "metadata": {},
   "outputs": [],
   "source": [
    "#With the above line, our job is done. But why did we even reduce the dimensions in the first place?\n",
    "#To visualise it on a graph.\n",
    "\n",
    "#So, here is a utility function that helps to do a scatter plot of thee transformed data \n",
    "from tutils.timg.tsne_2 import plot\n",
    "\n",
    "def plot2(x, colors):\n",
    "  \n",
    "    palette = np.array(sb.color_palette(\"hls\", 10))  #Choosing color palette \n",
    "\n",
    "    # Create a scatter plot.\n",
    "    f = plt.figure(figsize=(8, 8))\n",
    "    ax = plt.subplot(aspect='equal')\n",
    "    sc = ax.scatter(x[:,0], x[:,1], lw=0, s=40, c=palette[colors.astype(np.int)])\n",
    "    # Add the labels for each digit.\n",
    "    txts = []\n",
    "    for i in range(10):\n",
    "        # Position of each label.\n",
    "        xtext, ytext = np.median(x[colors == i, :], axis=0)\n",
    "        txt = ax.text(xtext, ytext, str(i), fontsize=24)\n",
    "        txt.set_path_effects([pe.Stroke(linewidth=5, foreground=\"w\"), pe.Normal()])\n",
    "        txts.append(txt)\n",
    "    return f, ax, txts"
   ]
  },
  {
   "cell_type": "code",
   "execution_count": 12,
   "id": "5ad0e7cc-806e-4eca-a185-ebde031833ef",
   "metadata": {},
   "outputs": [],
   "source": [
    "plot(digits_final,Y)"
   ]
  },
  {
   "cell_type": "code",
   "execution_count": null,
   "id": "5009e355-c59d-441a-adfd-de9f14359c50",
   "metadata": {},
   "outputs": [],
   "source": []
  }
 ],
 "metadata": {
  "kernelspec": {
   "display_name": "Python 3",
   "language": "python",
   "name": "python3"
  },
  "language_info": {
   "codemirror_mode": {
    "name": "ipython",
    "version": 3
   },
   "file_extension": ".py",
   "mimetype": "text/x-python",
   "name": "python",
   "nbconvert_exporter": "python",
   "pygments_lexer": "ipython3",
   "version": "3.8.5"
  }
 },
 "nbformat": 4,
 "nbformat_minor": 5
}
